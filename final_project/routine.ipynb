{
 "cells": [
  {
   "cell_type": "code",
   "execution_count": 1,
   "id": "a3d9ba86-841d-4c1d-a738-9cf8f27a3522",
   "metadata": {},
   "outputs": [],
   "source": [
    "\"\"\"Collect, process, and format data used for model fitting.\"\"\"\n",
    "import math\n",
    "import datetime as dt\n",
    "import pandas as pd\n",
    "import numpy as np\n",
    "import yfinance as yf\n",
    "from scipy.interpolate import CubicSpline\n",
    "from sklearn.linear_model import LinearRegression\n",
    "import matplotlib.pyplot as plt"
   ]
  },
  {
   "cell_type": "code",
   "execution_count": 2,
   "id": "d29e6a5e-a381-47ef-ab6e-ccaa59388ac5",
   "metadata": {},
   "outputs": [],
   "source": [
    "# file_names\n",
    "spot_exchange_file = \"data/EUR_USD Historical Data.csv\"\n",
    "sofr_file = \"data/sofr-historical.csv\"\n",
    "euro_short_rate_file = \"data/ECB Data Portal_20241214201559.csv\"\n",
    "yield_file = 'data/zero_coupon_annual_yields_11-22-2024.csv'\n",
    "sofr_forward_file = 'data/sofr-forwards.csv'\n",
    "cap_file = 'data/cap_bloomberg_vcub.csv'\n",
    "options_file = 'data/combined_options_chain.csv'"
   ]
  },
  {
   "cell_type": "code",
   "execution_count": 3,
   "id": "31e200f6-26af-4f13-9354-d2b92f5f8200",
   "metadata": {},
   "outputs": [
    {
     "data": {
      "text/plain": [
       "np.float64(0.031248110918544195)"
      ]
     },
     "execution_count": 3,
     "metadata": {},
     "output_type": "execute_result"
    }
   ],
   "source": [
    "# estimate rf (euro short term rate)\n",
    "def rf_time_series(file):\n",
    "    esr = pd.read_csv(file)\n",
    "    esr = esr.set_index('DATE')\n",
    "    esr.rename(columns={'Euro short-term rate - Volume-weighted trimmed mean rate (EST.B.EU000A2X2A25.WT)': 'eu-short-term-rate'}, inplace=True)\n",
    "    return esr[esr['eu-short-term-rate'] > 0]\n",
    "\n",
    "def rf_estimate(esr):\n",
    "    return esr['eu-short-term-rate'].mean()\n",
    "\n",
    "rf_series = rf_time_series(euro_short_rate_file)\n",
    "rf = rf_estimate(rf_series) / 100\n",
    "rf"
   ]
  },
  {
   "cell_type": "code",
   "execution_count": 4,
   "id": "e68948b6-688d-4b3c-b1c5-af71cdcd25ea",
   "metadata": {},
   "outputs": [
    {
     "data": {
      "text/plain": [
       "np.float64(0.04304488614334254)"
      ]
     },
     "execution_count": 4,
     "metadata": {},
     "output_type": "execute_result"
    }
   ],
   "source": [
    "# estimate a (speed of mean reversion)\n",
    "def rd_time_series(file):\n",
    "    us_sr = pd.read_csv(file)\n",
    "    us_sr['Effective Date'] = pd.to_datetime(us_sr['Effective Date'])\n",
    "    us_sr = us_sr.set_index('Effective Date')\n",
    "    us_sr.rename(columns={'Rate (%)' : 'us-short-term-rate'}, inplace=True)\n",
    "    return us_sr['us-short-term-rate'].dropna() / 100\n",
    "\n",
    "def estimate_a(us_sr, k=365):\n",
    "    now = us_sr.iloc[:-k]\n",
    "    then = us_sr.iloc[k:]\n",
    "    reg = LinearRegression().fit(now.to_frame(), then)\n",
    "    return reg.coef_\n",
    "\n",
    "\"\"\"\n",
    "# This currently is INCREDIBLY sensitive to choice of k days of lag. \n",
    "# I do not know any ways to feasibly justify one k value over the other\n",
    "# Professor Javaheri suggested \"a\" should be between 0.03 and 0.06. \n",
    "# Choosing k = 390 does achieve something in this range, but this is incredibly unmotivated\n",
    "\"\"\"    \n",
    "rd_series = rd_time_series(sofr_file)\n",
    "a_regression =  estimate_a(rd_series, k=390)[0]\n",
    "a_regression"
   ]
  },
  {
   "cell_type": "code",
   "execution_count": 5,
   "id": "11b44f06-f434-4694-9c86-10502332f7c4",
   "metadata": {},
   "outputs": [
    {
     "name": "stdout",
     "output_type": "stream",
     "text": [
      "0.05983603261473958\n",
      "0.03683283353786299\n"
     ]
    }
   ],
   "source": [
    "# estimate correlations with the equity\n",
    "def equity_time_series(ticker='^STOXX50E'):\n",
    "    stock = yf.Ticker(ticker).history(period='10y', interval='1d')['Close']\n",
    "    stock = stock.rename('stock-close')\n",
    "    stock.index = stock.index.date\n",
    "    return stock\n",
    "\n",
    "def exchange_time_series(file):\n",
    "    eur_usd = pd.read_csv(file)\n",
    "    eur_usd['Date'] = pd.to_datetime(eur_usd['Date'])\n",
    "    eur_usd = eur_usd.set_index('Date')\n",
    "    eur_usd.index = eur_usd.index.date\n",
    "    eur_usd.rename(columns={'Price' : 'exchange-rate'}, inplace=True)\n",
    "    return eur_usd['exchange-rate'] ** (-1)\n",
    "\n",
    "def returns(ts):\n",
    "    return (ts.div(ts.shift(1)) - 1).iloc[1:]\n",
    "\n",
    "stock_series = equity_time_series()\n",
    "stock_returns = returns(stock_series)\n",
    "\n",
    "fx_series = exchange_time_series(spot_exchange_file)\n",
    "fx_returns = returns(fx_series)\n",
    "\n",
    "def fx_stock_correlation(s_ts, fx_ts):\n",
    "    joint = fx_ts.to_frame().join(s_ts, how='inner')\n",
    "    return joint['exchange-rate'].corr(joint['stock-close'])\n",
    "\n",
    "rho_sx = fx_stock_correlation(stock_returns, fx_returns)\n",
    "print(rho_sx)\n",
    "\n",
    "rd_returns = returns(rd_series)\n",
    "def rates_stock_correlation(s_ts, r_ts):\n",
    "    joint = r_ts.to_frame().join(s_ts, how='inner')\n",
    "    return joint['us-short-term-rate'].corr(joint['stock-close'])\n",
    "\n",
    "rho_sr = rates_stock_correlation(stock_returns, rd_returns)\n",
    "print(rho_sr)"
   ]
  },
  {
   "cell_type": "code",
   "execution_count": 6,
   "id": "14817db0-7001-49a9-81d6-4f44aae3b709",
   "metadata": {},
   "outputs": [],
   "source": [
    "# current forward prices\n",
    "def build_forward_dataframe(file):\n",
    "    df = pd.read_csv(file)\n",
    "    df.rename(columns={'3-month Term SOFR' : '3-month', '1-month Term SOFR' : '1-month'}, inplace=True)\n",
    "    return df\n",
    "\n",
    "forward_df = build_forward_dataframe(sofr_forward_file)"
   ]
  },
  {
   "cell_type": "code",
   "execution_count": 7,
   "id": "6ab40f69-d0f5-4580-adf0-cb4f796ac8c0",
   "metadata": {},
   "outputs": [
    {
     "name": "stdout",
     "output_type": "stream",
     "text": [
      "      Years  Cap Vols\n",
      "0  0.501370  0.007042\n",
      "1  1.000000  0.007977\n",
      "2  1.501370  0.008272\n",
      "3  2.000000  0.008739\n",
      "4  2.501370  0.008739\n",
      "5  3.008219  0.008558\n",
      "6  3.506849  0.008557\n",
      "7  4.005479  0.008431\n",
      "8  4.504110  0.008428\n",
      "0.008428\n"
     ]
    }
   ],
   "source": [
    "def cap_dataframe(file):\n",
    "    df = pd.read_csv(file)\n",
    "    df['Expiry'] = pd.to_datetime(df['Expiry'])\n",
    "    df['Years'] = df['Days'].cumsum() / 365\n",
    "    df['Cap Vols'] = df['Cap Vols'] / 10000  # data given in bps\n",
    "    return df[['Years', 'Cap Vols']]\n",
    "\n",
    "cap_df = cap_dataframe(cap_file)\n",
    "print(cap_df)\n",
    "\n",
    "# for T >= 5, choose closest \n",
    "# NOTE: this must be checked/updated every time you change the deal terms\n",
    "sigma_r = 0.008428\n",
    "print(sigma_r)"
   ]
  },
  {
   "cell_type": "code",
   "execution_count": 8,
   "id": "494bdc88-4fde-4f61-b444-ae63f6b4c405",
   "metadata": {
    "scrolled": true
   },
   "outputs": [
    {
     "data": {
      "text/html": [
       "<div>\n",
       "<style scoped>\n",
       "    .dataframe tbody tr th:only-of-type {\n",
       "        vertical-align: middle;\n",
       "    }\n",
       "\n",
       "    .dataframe tbody tr th {\n",
       "        vertical-align: top;\n",
       "    }\n",
       "\n",
       "    .dataframe thead th {\n",
       "        text-align: right;\n",
       "    }\n",
       "</style>\n",
       "<table border=\"1\" class=\"dataframe\">\n",
       "  <thead>\n",
       "    <tr style=\"text-align: right;\">\n",
       "      <th></th>\n",
       "      <th>index</th>\n",
       "      <th>Strike</th>\n",
       "      <th>Date</th>\n",
       "      <th>C-Ticker</th>\n",
       "      <th>C-Bid</th>\n",
       "      <th>C-Ask</th>\n",
       "      <th>C-Last</th>\n",
       "      <th>C-IVM</th>\n",
       "      <th>C-Volm</th>\n",
       "      <th>P-Ticker</th>\n",
       "      <th>P-Bid</th>\n",
       "      <th>P-Ask</th>\n",
       "      <th>P-Last</th>\n",
       "      <th>P-IVM</th>\n",
       "      <th>P-Volm</th>\n",
       "      <th>Years</th>\n",
       "    </tr>\n",
       "  </thead>\n",
       "  <tbody>\n",
       "    <tr>\n",
       "      <th>1939</th>\n",
       "      <td>1934</td>\n",
       "      <td>2500</td>\n",
       "      <td>2029-12-01</td>\n",
       "      <td>SX5E 12/29 C2500</td>\n",
       "      <td>0.0</td>\n",
       "      <td>0.0</td>\n",
       "      <td>2276.100098</td>\n",
       "      <td>23.449985</td>\n",
       "      <td>0</td>\n",
       "      <td>SX5E 12/29 P2500</td>\n",
       "      <td>0.0</td>\n",
       "      <td>0.0</td>\n",
       "      <td>94.300003</td>\n",
       "      <td>0.000000</td>\n",
       "      <td>25000</td>\n",
       "      <td>4.986301</td>\n",
       "    </tr>\n",
       "    <tr>\n",
       "      <th>1956</th>\n",
       "      <td>1953</td>\n",
       "      <td>4000</td>\n",
       "      <td>2029-12-01</td>\n",
       "      <td>SX5E 12/29 C4000</td>\n",
       "      <td>0.0</td>\n",
       "      <td>0.0</td>\n",
       "      <td>1158.800049</td>\n",
       "      <td>0.000000</td>\n",
       "      <td>0</td>\n",
       "      <td>SX5E 12/29 P4000</td>\n",
       "      <td>0.0</td>\n",
       "      <td>0.0</td>\n",
       "      <td>336.399994</td>\n",
       "      <td>28.299494</td>\n",
       "      <td>25000</td>\n",
       "      <td>4.986301</td>\n",
       "    </tr>\n",
       "    <tr>\n",
       "      <th>1965</th>\n",
       "      <td>1962</td>\n",
       "      <td>4500</td>\n",
       "      <td>2029-12-01</td>\n",
       "      <td>SX5E 12/29 C4500</td>\n",
       "      <td>0.0</td>\n",
       "      <td>0.0</td>\n",
       "      <td>860.400024</td>\n",
       "      <td>0.000000</td>\n",
       "      <td>0</td>\n",
       "      <td>SX5E 12/29 P4500</td>\n",
       "      <td>0.0</td>\n",
       "      <td>0.0</td>\n",
       "      <td>491.200012</td>\n",
       "      <td>22.373840</td>\n",
       "      <td>12500</td>\n",
       "      <td>4.986301</td>\n",
       "    </tr>\n",
       "    <tr>\n",
       "      <th>1982</th>\n",
       "      <td>1981</td>\n",
       "      <td>6000</td>\n",
       "      <td>2029-12-01</td>\n",
       "      <td>SX5E 12/29 C6000</td>\n",
       "      <td>0.0</td>\n",
       "      <td>0.0</td>\n",
       "      <td>296.399994</td>\n",
       "      <td>15.788446</td>\n",
       "      <td>1000</td>\n",
       "      <td>SX5E 12/29 P6000</td>\n",
       "      <td>0.0</td>\n",
       "      <td>0.0</td>\n",
       "      <td>1286.500000</td>\n",
       "      <td>0.000000</td>\n",
       "      <td>0</td>\n",
       "      <td>4.986301</td>\n",
       "    </tr>\n",
       "  </tbody>\n",
       "</table>\n",
       "</div>"
      ],
      "text/plain": [
       "      index  Strike       Date          C-Ticker  C-Bid  C-Ask       C-Last  \\\n",
       "1939   1934    2500 2029-12-01  SX5E 12/29 C2500    0.0    0.0  2276.100098   \n",
       "1956   1953    4000 2029-12-01  SX5E 12/29 C4000    0.0    0.0  1158.800049   \n",
       "1965   1962    4500 2029-12-01  SX5E 12/29 C4500    0.0    0.0   860.400024   \n",
       "1982   1981    6000 2029-12-01  SX5E 12/29 C6000    0.0    0.0   296.399994   \n",
       "\n",
       "          C-IVM  C-Volm          P-Ticker  P-Bid  P-Ask       P-Last  \\\n",
       "1939  23.449985       0  SX5E 12/29 P2500    0.0    0.0    94.300003   \n",
       "1956   0.000000       0  SX5E 12/29 P4000    0.0    0.0   336.399994   \n",
       "1965   0.000000       0  SX5E 12/29 P4500    0.0    0.0   491.200012   \n",
       "1982  15.788446    1000  SX5E 12/29 P6000    0.0    0.0  1286.500000   \n",
       "\n",
       "          P-IVM  P-Volm     Years  \n",
       "1939   0.000000   25000  4.986301  \n",
       "1956  28.299494   25000  4.986301  \n",
       "1965  22.373840   12500  4.986301  \n",
       "1982   0.000000       0  4.986301  "
      ]
     },
     "metadata": {},
     "output_type": "display_data"
    },
    {
     "name": "stdout",
     "output_type": "stream",
     "text": [
      "0.2237384\n"
     ]
    }
   ],
   "source": [
    "# current options prices (Bloomberg)\n",
    "def get_options_chain(file):\n",
    "    df = pd.read_csv(file)\n",
    "    df['Date'] = pd.to_datetime(df['Date'])\n",
    "    df.sort_values(by=['Date', 'Strike'], inplace=True)\n",
    "    df.reset_index(inplace=True)\n",
    "    df['Years'] = df['Date'].apply(lambda x: (x - pd.to_datetime('12/07/2024')).total_seconds() / 31536000)\n",
    "    return df\n",
    "\n",
    "options_df = get_options_chain(options_file)\n",
    "\n",
    "# specific to 5 years\n",
    "display(options_df[(options_df['Years'].between(4.9, 5.1)) & ((options_df['C-Volm'] > 0) | (options_df['P-Volm'] > 0))])\n",
    "\n",
    "# choose which option to imply volatility from\n",
    "# NOTE: this must be checked/updated every time you change the deal terms\n",
    "sigma_f = 0.2237384\n",
    "print(sigma_f)"
   ]
  },
  {
   "cell_type": "code",
   "execution_count": 9,
   "id": "c0aa6bb9-b29a-421f-9411-31413c76d195",
   "metadata": {},
   "outputs": [],
   "source": [
    "# parameters pulled from website data (not scraped)\n",
    "q = 0.00068  # as of 12/15/2025\n",
    "sigma_x = 0.0772  # as of 12/15/2024"
   ]
  },
  {
   "cell_type": "code",
   "execution_count": null,
   "id": "5c0b71ef-8ca7-405d-959b-8b86b33c011c",
   "metadata": {},
   "outputs": [],
   "source": []
  },
  {
   "cell_type": "code",
   "execution_count": 10,
   "id": "df187414-827b-4678-ae29-04e056433a86",
   "metadata": {},
   "outputs": [],
   "source": [
    "def empirical_yield_curve(filename):\n",
    "    \"\"\"Use a cubic spline model to build treasury spot rate curve.\"\"\"\n",
    "    sc = pd.read_csv(filename)\n",
    "    # Currently, adding overnight rate as \"1 day zero coupon bond\"\n",
    "    return CubicSpline(sc['Years'], sc['Fitted Zero Coupon Yield'] / 100)\n",
    "\n",
    "# -d/dt(- t*y(0, t))\n",
    "def inst_forward_curve(times, yc):\n",
    "    return np.gradient(times * yc(times), times)\n",
    "\n",
    "t = np.arange(0, 10.01, 0.01)\n",
    "yc = empirical_yield_curve(yield_file)\n",
    "fc = CubicSpline(t, inst_forward_curve(t, yc))"
   ]
  },
  {
   "cell_type": "code",
   "execution_count": 11,
   "id": "6d7fe151-bf9a-444e-89e8-74ae6fce19a5",
   "metadata": {},
   "outputs": [],
   "source": [
    "def g(a, sigma, T):\n",
    "    \"\"\"Helper function for Hull-White calibration.\"\"\"\n",
    "    return (sigma ** 2) / (2 * a ** 2) * (1 - np.exp(-a * T)) ** 2\n",
    "\n",
    "def gprime(a, sigma, T):\n",
    "    \"\"\"Helper derivative for Hull-White calibration.\"\"\"\n",
    "    return sigma ** 2 / a ** 2 * (1 - np.exp(-a * T)) * (a * np.exp(-a * T))\n",
    "\n",
    "def theta(fc, a, sigma, t):\n",
    "    return fc(t, 1) + gprime(a, sigma, t) + a*(fc(t) + g(a, sigma, t))\n",
    "    \n",
    "    "
   ]
  },
  {
   "cell_type": "code",
   "execution_count": 12,
   "id": "15e32988-2d56-4cd2-9a6a-6e255539db34",
   "metadata": {
    "scrolled": true
   },
   "outputs": [
    {
     "data": {
      "text/plain": [
       "{'S0': np.float64(3049.989990234375),\n",
       " 'r0': np.float64(0.0462),\n",
       " 'L0-1month': np.float64(0.044),\n",
       " 'L0-3month': np.float64(0.0436),\n",
       " 'rf': np.float64(0.031248110918544195),\n",
       " 'q': 0.00068,\n",
       " 'rho_sx': np.float64(0.05983603261473958),\n",
       " 'sigma_x': 0.0772,\n",
       " 'sigma_f': 0.2237384,\n",
       " 'a': np.float64(0.04304488614334254),\n",
       " 'sigma_r': 0.008428,\n",
       " 'theta': <function __main__.theta(fc, a, sigma, t)>,\n",
       " 'rho_sr': np.float64(0.03683283353786299)}"
      ]
     },
     "metadata": {},
     "output_type": "display_data"
    }
   ],
   "source": [
    "param_summary = {\n",
    "    \"S0\" : stock_series.iloc[0],\n",
    "    \"r0\" : rd_series.iloc[0],\n",
    "    \"L0-1month\" : forward_df['1-month'][0],  # must be set such that it agrees with the delta routine below\n",
    "    \"L0-3month\" : forward_df['3-month'][0],\n",
    "    \"rf\" : rf,\n",
    "    \"q\"  : q,\n",
    "    \"rho_sx\" : rho_sx,\n",
    "    \"sigma_x\" : sigma_x,\n",
    "    \"sigma_f\" : sigma_f,\n",
    "    \"a\" : a_regression,\n",
    "    \"sigma_r\": sigma_r,\n",
    "    \"theta\": theta,\n",
    "    \"rho_sr\" : rho_sr,\n",
    "}\n",
    "display(param_summary)\n",
    "\n",
    "# if a user (or grader) would like to manually play with parameters\n",
    "param_user_override = {\n",
    "    \"S0\" : None,\n",
    "    \"r0\" : None,\n",
    "    \"L0-1month\" : None,\n",
    "    \"L0-3month\" : None,\n",
    "    \"rf\" : None,\n",
    "    \"q\"  : None,\n",
    "    \"rho_sx\" : None,\n",
    "    \"sigma_x\" : None,\n",
    "    \"sigma_f\" : None,\n",
    "    \"a\" : None,\n",
    "    \"sigma_r\": None,\n",
    "    \"theta\": None,\n",
    "    \"rho_sr\" : None,\n",
    "}"
   ]
  },
  {
   "cell_type": "code",
   "execution_count": 13,
   "id": "31093c06-64a5-4865-8155-1de7087d44f0",
   "metadata": {},
   "outputs": [],
   "source": [
    "# Monte Carlo Shit\n",
    "def correlated_normal(rho, N):\n",
    "    un_corr = np.random.normal(size=(2, N))\n",
    "    L = np.array([[1, 0], [rho, np.sqrt(1 - rho**2)]])\n",
    "    return L @ un_corr\n",
    "\n",
    "def stock_path(S0, mu, sigma, t_step, N, deviations):\n",
    "    noise = sigma * np.sqrt(t_step) * deviations\n",
    "    growth_rate = 1 + t_step * mu + noise\n",
    "    growth_rate = np.insert(growth_rate, 0, 1)\n",
    "    return S0 * np.cumprod(growth_rate)\n",
    "\n",
    "def rate_path(r0, a, sigma, theta, t_step, N, deviations):\n",
    "    \"\"\"Return the rate over the next N time steps starting from r0.\"\"\"\n",
    "    noise = sigma * np.sqrt(t_step) * deviations\n",
    "    rate_path = np.empty(N + 1)\n",
    "    rate_path[0] = r0\n",
    "    for j in range(0, N):\n",
    "        rate_path[j + 1] = rate_path[j] + (theta(fc, a, sigma, t_step * j) - a * rate_path[j]) * t_step + sigma * noise[j - 1]\n",
    "\n",
    "    return rate_path"
   ]
  },
  {
   "cell_type": "code",
   "execution_count": 14,
   "id": "06cf9952-48ef-4f19-b0cf-2f0921b9ad70",
   "metadata": {},
   "outputs": [],
   "source": [
    "# Main routine\n",
    "def price_hybrid(params, notional=1000000, k=1, kprime=1, T=5, delta=0.25, t_step=0.01, n_sim=1000):\n",
    "    N = int(np.ceil((T + delta) / t_step))\n",
    "    total = 0\n",
    "    for j in range(n_sim):\n",
    "        deviations = correlated_normal(params[\"rho_sr\"], N)\n",
    "        stock_sim = stock_path(\n",
    "            params['S0'], \n",
    "            params['rf'] - params['rho_sx'] * params['sigma_x'] * params['sigma_f'],\n",
    "            params['sigma_f'],\n",
    "            t_step,\n",
    "            N,\n",
    "            deviations[0]\n",
    "        )\n",
    "        short_rate_sim = rate_path(\n",
    "            params['r0'],\n",
    "            params['a'],\n",
    "            params['sigma_r'],\n",
    "            params['theta'],\n",
    "            t_step,\n",
    "            N,\n",
    "            deviations[1]\n",
    "        )\n",
    "\n",
    "        # compute value of assets\n",
    "        M = int(T / t_step)\n",
    "        ST = stock_sim[M]\n",
    "        bond = np.exp(np.sum(short_rate_sim[M+1:]) * t_step)\n",
    "        discount = np.exp(-np.sum(short_rate_sim[:M+1] * t_step))\n",
    "        LT = (1 - bond) / (delta * bond)\n",
    "\n",
    "        # compute value of option\n",
    "        total += discount * max(0, (ST / params[\"S0\"] - k) * (kprime - LT / params[\"L0-3month\"]))\n",
    "\n",
    "    return notional * total / n_sim"
   ]
  },
  {
   "cell_type": "code",
   "execution_count": 17,
   "id": "ac581845-884e-4989-adaa-d6feceb07266",
   "metadata": {},
   "outputs": [
    {
     "data": {
      "text/plain": [
       "np.float64(492420.42274317314)"
      ]
     },
     "execution_count": 17,
     "metadata": {},
     "output_type": "execute_result"
    }
   ],
   "source": [
    "# output a price!\n",
    "price_hybrid(param_summary)"
   ]
  },
  {
   "cell_type": "code",
   "execution_count": null,
   "id": "e2ff90f6-41c6-444f-a6bf-b0c62a36128f",
   "metadata": {},
   "outputs": [],
   "source": []
  }
 ],
 "metadata": {
  "kernelspec": {
   "display_name": "Python 3 (ipykernel)",
   "language": "python",
   "name": "python3"
  },
  "language_info": {
   "codemirror_mode": {
    "name": "ipython",
    "version": 3
   },
   "file_extension": ".py",
   "mimetype": "text/x-python",
   "name": "python",
   "nbconvert_exporter": "python",
   "pygments_lexer": "ipython3",
   "version": "3.10.12"
  }
 },
 "nbformat": 4,
 "nbformat_minor": 5
}
